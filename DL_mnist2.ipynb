{
 "cells": [
  {
   "cell_type": "code",
   "execution_count": 1,
   "metadata": {},
   "outputs": [
    {
     "name": "stderr",
     "output_type": "stream",
     "text": [
      "Using TensorFlow backend.\n",
      "\u001b[2m2017-12-05 22:53.08\u001b[0m [\u001b[32m\u001b[1minfo     \u001b[0m] \u001b[1menv-capture                   \u001b[0m [\u001b[34m\u001b[1mdrugdiscovery\u001b[0m] \u001b[36menv\u001b[0m=\u001b[35m'prod'\u001b[0m \u001b[36mversion\u001b[0m=\u001b[35m'0.5+960.g44ec64a9.dirty'\u001b[0m\n"
     ]
    }
   ],
   "source": [
    "import os, random, sys, keras\n",
    "import numpy as np\n",
    "from keras.utils import np_utils\n",
    "from keras.models import Sequential\n",
    "from keras.layers import Dense, Activation, Flatten, Reshape\n",
    "from keras.layers import Conv2D, Conv2DTranspose, UpSampling2D\n",
    "from keras.layers import LeakyReLU, Dropout\n",
    "from keras.layers import BatchNormalization\n",
    "from keras.layers.wrappers import TimeDistributed\n",
    "from keras.layers.noise import GaussianNoise\n",
    "from keras.optimizers import Adam\n",
    "from keras.datasets import mnist\n",
    "from keras.callbacks import TensorBoard\n",
    "import tensorflow as tf\n",
    "\n",
    "import seaborn as sns\n",
    "from tqdm import tqdm\n",
    "\n",
    "import drugdiscovery as dd\n",
    "import matplotlib \n",
    "import matplotlib.pyplot as plt\n",
    "\n",
    "%load_ext autoreload\n",
    "%autoreload 2\n",
    "%matplotlib inline"
   ]
  },
  {
   "cell_type": "code",
   "execution_count": 2,
   "metadata": {},
   "outputs": [
    {
     "name": "stdout",
     "output_type": "stream",
     "text": [
      "0.0 1.0\n",
      "X_train shape: (60000, 28, 28, 1)\n",
      "60000 train samples\n",
      "10000 test samples\n"
     ]
    }
   ],
   "source": [
    "img_rows, img_cols = 28, 28\n",
    "\n",
    "# the data, shuffled and split between train and test sets\n",
    "(X_train, y_train), (X_test, y_test) = mnist.load_data()\n",
    "\n",
    "X_train = X_train.reshape(X_train.shape[0], img_rows, img_cols, 1)\n",
    "X_test = X_test.reshape(X_test.shape[0], img_rows, img_cols, 1)\n",
    "X_train = X_train.astype('float32')\n",
    "X_test = X_test.astype('float32')\n",
    "X_train /= 255\n",
    "X_test /= 255\n",
    "\n",
    "print(np.min(X_train), np.max(X_train))\n",
    "\n",
    "print('X_train shape:', X_train.shape)\n",
    "print(X_train.shape[0], 'train samples')\n",
    "print(X_test.shape[0], 'test samples')"
   ]
  },
  {
   "cell_type": "code",
   "execution_count": 3,
   "metadata": {
    "collapsed": true
   },
   "outputs": [],
   "source": [
    "shp = X_train.shape[1:]\n",
    "dropout_rate = 0.25\n",
    "opt = Adam(lr=1e-4)\n",
    "dopt = Adam(lr=1e-3)"
   ]
  },
  {
   "cell_type": "code",
   "execution_count": 4,
   "metadata": {},
   "outputs": [
    {
     "name": "stdout",
     "output_type": "stream",
     "text": [
      "_________________________________________________________________\n",
      "Layer (type)                 Output Shape              Param #   \n",
      "=================================================================\n",
      "dense_1 (Dense)              (None, 12544)             1266944   \n",
      "_________________________________________________________________\n",
      "batch_normalization_1 (Batch (None, 12544)             50176     \n",
      "_________________________________________________________________\n",
      "activation_1 (Activation)    (None, 12544)             0         \n",
      "_________________________________________________________________\n",
      "reshape_1 (Reshape)          (None, 7, 7, 256)         0         \n",
      "_________________________________________________________________\n",
      "dropout_1 (Dropout)          (None, 7, 7, 256)         0         \n",
      "_________________________________________________________________\n",
      "up_sampling2d_1 (UpSampling2 (None, 14, 14, 256)       0         \n",
      "_________________________________________________________________\n",
      "conv2d_transpose_1 (Conv2DTr (None, 14, 14, 128)       819328    \n",
      "_________________________________________________________________\n",
      "batch_normalization_2 (Batch (None, 14, 14, 128)       512       \n",
      "_________________________________________________________________\n",
      "activation_2 (Activation)    (None, 14, 14, 128)       0         \n",
      "_________________________________________________________________\n",
      "up_sampling2d_2 (UpSampling2 (None, 28, 28, 128)       0         \n",
      "_________________________________________________________________\n",
      "conv2d_transpose_2 (Conv2DTr (None, 28, 28, 64)        204864    \n",
      "_________________________________________________________________\n",
      "batch_normalization_3 (Batch (None, 28, 28, 64)        256       \n",
      "_________________________________________________________________\n",
      "activation_3 (Activation)    (None, 28, 28, 64)        0         \n",
      "_________________________________________________________________\n",
      "conv2d_transpose_3 (Conv2DTr (None, 28, 28, 32)        51232     \n",
      "_________________________________________________________________\n",
      "batch_normalization_4 (Batch (None, 28, 28, 32)        128       \n",
      "_________________________________________________________________\n",
      "activation_4 (Activation)    (None, 28, 28, 32)        0         \n",
      "_________________________________________________________________\n",
      "conv2d_transpose_4 (Conv2DTr (None, 28, 28, 1)         801       \n",
      "_________________________________________________________________\n",
      "activation_5 (Activation)    (None, 28, 28, 1)         0         \n",
      "=================================================================\n",
      "Total params: 2,394,241.0\n",
      "Trainable params: 2,368,705.0\n",
      "Non-trainable params: 25,536.0\n",
      "_________________________________________________________________\n"
     ]
    }
   ],
   "source": [
    "# Build Generative model ...\n",
    "depth = 64*4\n",
    "dim = 7\n",
    "generator = Sequential()\n",
    "\n",
    "generator.add(Dense(dim*dim*depth, kernel_initializer='glorot_normal', input_dim=100))\n",
    "generator.add(BatchNormalization(momentum=.9))\n",
    "generator.add(Activation('relu'))\n",
    "generator.add(Reshape( [dim,dim,depth] ))\n",
    "generator.add(Dropout(dropout_rate))\n",
    "\n",
    "generator.add(UpSampling2D())\n",
    "generator.add(Conv2DTranspose(depth//2, 5, padding='same'))\n",
    "generator.add(BatchNormalization(momentum=.9))\n",
    "generator.add(Activation('relu'))\n",
    "\n",
    "generator.add(UpSampling2D())\n",
    "generator.add(Conv2DTranspose(depth//4, 5, padding='same'))\n",
    "generator.add(BatchNormalization(momentum=.9))\n",
    "generator.add(Activation('relu'))\n",
    "\n",
    "generator.add(Conv2DTranspose(depth//8, 5, padding='same'))\n",
    "generator.add(BatchNormalization(momentum=.9))\n",
    "generator.add(Activation('relu'))\n",
    "\n",
    "generator.add(Conv2DTranspose(1, 5, padding='same'))\n",
    "generator.add(Activation('sigmoid'))\n",
    "\n",
    "generator.compile(loss='binary_crossentropy', optimizer=opt, metrics=['accuracy'])\n",
    "generator.summary()"
   ]
  },
  {
   "cell_type": "code",
   "execution_count": 5,
   "metadata": {},
   "outputs": [
    {
     "name": "stdout",
     "output_type": "stream",
     "text": [
      "_________________________________________________________________\n",
      "Layer (type)                 Output Shape              Param #   \n",
      "=================================================================\n",
      "conv2d_1 (Conv2D)            (None, 14, 14, 64)        1664      \n",
      "_________________________________________________________________\n",
      "leaky_re_lu_1 (LeakyReLU)    (None, 14, 14, 64)        0         \n",
      "_________________________________________________________________\n",
      "dropout_2 (Dropout)          (None, 14, 14, 64)        0         \n",
      "_________________________________________________________________\n",
      "conv2d_2 (Conv2D)            (None, 7, 7, 128)         204928    \n",
      "_________________________________________________________________\n",
      "leaky_re_lu_2 (LeakyReLU)    (None, 7, 7, 128)         0         \n",
      "_________________________________________________________________\n",
      "dropout_3 (Dropout)          (None, 7, 7, 128)         0         \n",
      "_________________________________________________________________\n",
      "conv2d_3 (Conv2D)            (None, 4, 4, 256)         819456    \n",
      "_________________________________________________________________\n",
      "leaky_re_lu_3 (LeakyReLU)    (None, 4, 4, 256)         0         \n",
      "_________________________________________________________________\n",
      "dropout_4 (Dropout)          (None, 4, 4, 256)         0         \n",
      "_________________________________________________________________\n",
      "conv2d_4 (Conv2D)            (None, 2, 2, 512)         3277312   \n",
      "_________________________________________________________________\n",
      "leaky_re_lu_4 (LeakyReLU)    (None, 2, 2, 512)         0         \n",
      "_________________________________________________________________\n",
      "dropout_5 (Dropout)          (None, 2, 2, 512)         0         \n",
      "_________________________________________________________________\n",
      "flatten_1 (Flatten)          (None, 2048)              0         \n",
      "_________________________________________________________________\n",
      "dense_2 (Dense)              (None, 1)                 2049      \n",
      "_________________________________________________________________\n",
      "activation_6 (Activation)    (None, 1)                 0         \n",
      "=================================================================\n",
      "Total params: 4,305,409.0\n",
      "Trainable params: 4,305,409.0\n",
      "Non-trainable params: 0.0\n",
      "_________________________________________________________________\n"
     ]
    }
   ],
   "source": [
    "# Build Discriminative model ...\n",
    "depth = 64\n",
    "input_shape = (img_rows, img_cols, 1)\n",
    "discriminator = Sequential()\n",
    "\n",
    "discriminator.add(Conv2D(depth*1, 5, padding='same', activation='relu', strides=2,\n",
    "                        input_shape=input_shape))\n",
    "discriminator.add(LeakyReLU(0.2))\n",
    "discriminator.add(Dropout(dropout_rate))\n",
    "\n",
    "discriminator.add(Conv2D(depth*2, 5, padding='same', activation='relu', strides=2))\n",
    "discriminator.add(LeakyReLU(0.2))\n",
    "discriminator.add(Dropout(dropout_rate))\n",
    "\n",
    "discriminator.add(Conv2D(depth*4, 5, padding='same', activation='relu', strides=2))\n",
    "discriminator.add(LeakyReLU(0.2))\n",
    "discriminator.add(Dropout(dropout_rate))\n",
    "\n",
    "discriminator.add(Conv2D(depth*8, 5, padding='same', activation='relu', strides=2))\n",
    "discriminator.add(LeakyReLU(0.2))\n",
    "discriminator.add(Dropout(dropout_rate))\n",
    "\n",
    "discriminator.add(Flatten())\n",
    "discriminator.add(Dense(1))\n",
    "discriminator.add(Activation('sigmoid'))\n",
    "\n",
    "discriminator.compile(loss='binary_crossentropy', optimizer=dopt, metrics=['accuracy'])\n",
    "discriminator.summary()"
   ]
  },
  {
   "cell_type": "code",
   "execution_count": 6,
   "metadata": {},
   "outputs": [
    {
     "name": "stdout",
     "output_type": "stream",
     "text": [
      "_________________________________________________________________\n",
      "Layer (type)                 Output Shape              Param #   \n",
      "=================================================================\n",
      "sequential_1 (Sequential)    (None, 28, 28, 1)         2394241   \n",
      "_________________________________________________________________\n",
      "sequential_2 (Sequential)    (None, 1)                 4305409   \n",
      "=================================================================\n",
      "Total params: 6,699,650.0\n",
      "Trainable params: 2,368,705.0\n",
      "Non-trainable params: 4,330,945.0\n",
      "_________________________________________________________________\n"
     ]
    }
   ],
   "source": [
    "# Freeze weights in the discriminator for stacked training\n",
    "def make_trainable(net, val):\n",
    "    net.trainable = val\n",
    "    for l in net.layers:\n",
    "        l.trainable = val\n",
    "make_trainable(discriminator, False)\n",
    "\n",
    "# Build stacked GAN model\n",
    "GAN = Sequential()\n",
    "GAN.add(generator)\n",
    "GAN.add(discriminator)\n",
    "GAN.compile(loss='binary_crossentropy', optimizer=opt, metrics=['accuracy'])\n",
    "GAN.summary()"
   ]
  },
  {
   "cell_type": "code",
   "execution_count": 7,
   "metadata": {
    "collapsed": true
   },
   "outputs": [],
   "source": [
    "def plot_loss(losses):\n",
    "#        display.clear_output(wait=True)\n",
    "#        display.display(plt.gcf())\n",
    "    d_loss, d_acc = zip(*losses['d'])\n",
    "    g_loss, g_acc = zip(*losses['g'])\n",
    "    fig, (ax1,ax2) = plt.subplots(1,2,figsize=(12,3))\n",
    "\n",
    "    ax1.set_title('Losses')\n",
    "    ax1.plot(d_loss, label='discriminator')\n",
    "    ax1.plot(g_loss, label='generator')\n",
    "    ax1.legend()\n",
    "    \n",
    "    ax2.set_title('Accuracy')\n",
    "    ax2.plot(d_acc, label='discriminator')\n",
    "    ax2.plot(g_acc, label='generator')\n",
    "    ax2.legend()\n",
    "    \n",
    "    plt.show()\n",
    "\n",
    "def plot_gen(n_ex=6, dim=(1,6), figsize=(6,1), fixed_noise=None):\n",
    "    noise = np.random.uniform(0,1,size=[n_ex,100])\n",
    "    if fixed_noise is not None:\n",
    "        noise[:fixed_noise.shape[0],:] = fixed_noise[:,:]\n",
    "    generated_images = generator.predict(noise)\n",
    "\n",
    "    plt.figure(figsize=figsize)\n",
    "    for i in range(generated_images.shape[0]):\n",
    "        plt.subplot(dim[0],dim[1],i+1)\n",
    "        img = generated_images[i,:,:,0]\n",
    "        plt.imshow(img,cmap='gray')\n",
    "        plt.axis('off')\n",
    "    plt.show()\n",
    "    \n",
    "def plot_real(n_ex=16,dim=(4,4), figsize=(6,6) ):\n",
    "    \n",
    "    idx = np.random.randint(0,X_train.shape[0],n_ex)\n",
    "    generated_images = X_train[idx,:,:,0]\n",
    "\n",
    "    plt.figure(figsize=figsize)\n",
    "    for i in range(generated_images.shape[0]):\n",
    "        plt.subplot(dim[0],dim[1],i+1)\n",
    "        img = generated_images[i,:,:]\n",
    "        plt.imshow(img,cmap='gray')\n",
    "        plt.axis('off')\n",
    "    plt.show()"
   ]
  },
  {
   "cell_type": "markdown",
   "metadata": {},
   "source": [
    "### Pretrain?"
   ]
  },
  {
   "cell_type": "code",
   "execution_count": 8,
   "metadata": {},
   "outputs": [
    {
     "name": "stdout",
     "output_type": "stream",
     "text": [
      "Epoch 1/4\n",
      "1024/1024 [==============================] - ETA: 16s - loss: 0.6959 - acc: 0.39 - ETA: 12s - loss: 0.5841 - acc: 0.46 - ETA: 10s - loss: 1.9880 - acc: 0.46 - ETA: 7s - loss: 1.7592 - acc: 0.4668 - ETA: 5s - loss: 1.6168 - acc: 0.462 - ETA: 3s - loss: 1.3697 - acc: 0.550 - ETA: 1s - loss: 1.2865 - acc: 0.549 - 12s - loss: 1.1316 - acc: 0.6055    \n",
      "Epoch 2/4\n",
      "1024/1024 [==============================] - ETA: 9s - loss: 0.0936 - acc: 0.976 - ETA: 8s - loss: 0.1486 - acc: 0.945 - ETA: 6s - loss: 0.1458 - acc: 0.940 - ETA: 5s - loss: 0.1133 - acc: 0.955 - ETA: 4s - loss: 0.0909 - acc: 0.964 - ETA: 2s - loss: 0.0759 - acc: 0.970 - ETA: 1s - loss: 0.0658 - acc: 0.974 - 10s - loss: 0.0605 - acc: 0.9775    \n",
      "Epoch 3/4\n",
      "1024/1024 [==============================] - ETA: 9s - loss: 0.0151 - acc: 1.000 - ETA: 8s - loss: 0.0079 - acc: 1.000 - ETA: 6s - loss: 0.0052 - acc: 1.000 - ETA: 5s - loss: 0.0039 - acc: 1.000 - ETA: 4s - loss: 0.0032 - acc: 1.000 - ETA: 2s - loss: 0.0026 - acc: 1.000 - ETA: 1s - loss: 0.0023 - acc: 1.000 - 10s - loss: 0.0028 - acc: 0.9990    \n",
      "Epoch 4/4\n",
      "1024/1024 [==============================] - ETA: 9s - loss: 6.2733e-07 - acc: 1.000 - ETA: 9s - loss: 5.7158e-04 - acc: 1.000 - ETA: 7s - loss: 3.8209e-04 - acc: 1.000 - ETA: 6s - loss: 2.8671e-04 - acc: 1.000 - ETA: 4s - loss: 2.2978e-04 - acc: 1.000 - ETA: 2s - loss: 0.0012 - acc: 0.9987    - ETA: 1s - loss: 0.0011 - acc: 0.998 - 11s - loss: 9.2505e-04 - acc: 0.9990\n",
      "Accuracy: 100.00 pct (1024 of 1024) right\n"
     ]
    }
   ],
   "source": [
    "ntrain = 512\n",
    "trainidx = random.sample(range(0,X_train.shape[0]), ntrain)\n",
    "XT = X_train[trainidx,:,:,:]\n",
    "\n",
    "# Pre-train the discriminator network ...\n",
    "noise_gen = np.random.uniform(0,1,size=[XT.shape[0],100])\n",
    "generated_images = generator.predict(noise_gen)\n",
    "X = np.concatenate((XT, generated_images))\n",
    "n = XT.shape[0]\n",
    "y = np.zeros([2*n,1])\n",
    "y[n:] = 1\n",
    "\n",
    "make_trainable(discriminator,True)\n",
    "discriminator.fit(X,y, epochs=4, batch_size=128)\n",
    "y_hat = discriminator.predict(X)\n",
    "\n",
    "# Measure accuracy of pre-trained discriminator network\n",
    "y_hat_idx = np.argmax(y_hat,axis=1)\n",
    "y_idx = np.argmax(y,axis=1)\n",
    "diff = y_idx-y_hat_idx\n",
    "n_tot = y.shape[0]\n",
    "n_rig = (diff==0).sum()\n",
    "acc = n_rig*100.0/n_tot\n",
    "print(\"Accuracy: %0.02f pct (%d of %d) right\" % (acc, n_rig, n_tot))"
   ]
  },
  {
   "cell_type": "code",
   "execution_count": 9,
   "metadata": {
    "collapsed": true
   },
   "outputs": [],
   "source": [
    "# setup tensorboard\n",
    "def write_log(callback, names, logs, batch_no):\n",
    "    for name, value in zip(names, logs):\n",
    "        summary = tf.Summary()\n",
    "        summary_value = summary.value.add()\n",
    "        summary_value.simple_value = value\n",
    "        summary_value.tag = name\n",
    "        callback.writer.add_summary(summary, batch_no)\n",
    "        callback.writer.flush()\n",
    "    \n",
    "log_path_g = './logs/generator'\n",
    "callback_g = TensorBoard(log_path_g)\n",
    "callback_g.set_model(GAN)\n",
    "\n",
    "log_path_d = './logs/discriminator'\n",
    "callback_d = TensorBoard(log_path_d)\n",
    "callback_d.set_model(discriminator)\n",
    "\n",
    "callback_names = ['loss', 'acc']"
   ]
  },
  {
   "cell_type": "code",
   "execution_count": 10,
   "metadata": {
    "collapsed": true
   },
   "outputs": [],
   "source": [
    "# get some fixed noise inputs for watching progression\n",
    "fixed_noise = np.random.uniform(0,1,size=[3,100])"
   ]
  },
  {
   "cell_type": "code",
   "execution_count": 13,
   "metadata": {
    "collapsed": true
   },
   "outputs": [],
   "source": [
    "# set up loss storage vector\n",
    "losses = {\"d\":[], \"g\":[]}\n",
    "\n",
    "# Set up our main training loop\n",
    "def train_for_n(nb_epoch=10000, plt_frq=200, BATCH_SIZE=32):\n",
    "    opt.lr.assign(5e-4)\n",
    "    dopt.lr.assign(1e-3)\n",
    "    \n",
    "    for e in tqdm(range(nb_epoch)):\n",
    "        # lower the learning rates for later batches\n",
    "        if e == 6000:\n",
    "            opt.lr.assign(5e-5)\n",
    "            dopt.lr.assign(1e-4)\n",
    "        if e == 8000:\n",
    "            opt.lr.assign(5e-6)\n",
    "            dopt.lr.assign(1e-5)\n",
    "        \n",
    "        # Make generative images\n",
    "        image_batch = X_train[np.random.randint(0,X_train.shape[0],size=BATCH_SIZE),:,:,:]    \n",
    "        noise_gen = np.random.uniform(0,1,size=[BATCH_SIZE,100])\n",
    "        generated_images = generator.predict(noise_gen)\n",
    "        \n",
    "        # Train discriminator on generated images\n",
    "        X = np.concatenate((image_batch, generated_images))\n",
    "        y = np.zeros([2*BATCH_SIZE,1])\n",
    "        y[BATCH_SIZE:] = 1\n",
    "        \n",
    "        make_trainable(discriminator,True)\n",
    "        d_log  = discriminator.train_on_batch(X, y)\n",
    "        losses[\"d\"].append(d_log)\n",
    "        write_log(callback_d, callback_names, d_log, e)\n",
    "    \n",
    "        # train Generator-Discriminator stack on input noise to non-generated output class\n",
    "        noise_tr = np.random.uniform(0,1,size=[BATCH_SIZE,100])\n",
    "        y2 = np.zeros([BATCH_SIZE,1])\n",
    "        \n",
    "        make_trainable(discriminator,False)\n",
    "        g_log = GAN.train_on_batch(noise_tr, y2)\n",
    "        losses[\"g\"].append(g_log)\n",
    "        write_log(callback_g, callback_names, g_log, e)\n",
    "        \n",
    "        # plot samples\n",
    "        if e%plt_frq==0 or (e < 200 and e%50==0):\n",
    "            plot_gen(fixed_noise=fixed_noise)"
   ]
  },
  {
   "cell_type": "code",
   "execution_count": null,
   "metadata": {},
   "outputs": [
    {
     "name": "stderr",
     "output_type": "stream",
     "text": [
      "\r",
      "  0%|          | 0/10000 [00:00<?, ?it/s]"
     ]
    },
    {
     "data": {
      "image/png": "[encoded data removed]",
      "text/plain": [
       "<matplotlib.figure.Figure at 0x14970acf8>"
      ]
     },
     "metadata": {},
     "output_type": "display_data"
    },
    {
     "name": "stderr",
     "output_type": "stream",
     "text": [
      "  0%|          | 50/10000 [03:09<10:06:40,  3.66s/it]"
     ]
    },
    {
     "data": {
      "image/png": "[encoded data removed]",
      "text/plain": [
       "<matplotlib.figure.Figure at 0x14973dcf8>"
      ]
     },
     "metadata": {},
     "output_type": "display_data"
    },
    {
     "name": "stderr",
     "output_type": "stream",
     "text": [
      "  1%|          | 100/10000 [06:09<9:35:05,  3.49s/it]"
     ]
    },
    {
     "data": {
      "image/png": "[encoded data removed]",
      "text/plain": [
       "<matplotlib.figure.Figure at 0x14a32f400>"
      ]
     },
     "metadata": {},
     "output_type": "display_data"
    },
    {
     "name": "stderr",
     "output_type": "stream",
     "text": [
      "  2%|▏         | 150/10000 [09:22<10:11:59,  3.73s/it]"
     ]
    },
    {
     "data": {
      "image/png": "[encoded data removed]",
      "text/plain": [
       "<matplotlib.figure.Figure at 0x149e5cd30>"
      ]
     },
     "metadata": {},
     "output_type": "display_data"
    },
    {
     "name": "stderr",
     "output_type": "stream",
     "text": [
      "  2%|▏         | 156/10000 [09:43<9:47:15,  3.58s/it] "
     ]
    }
   ],
   "source": [
    "# Train!!\n",
    "train_for_n(nb_epoch=10000, plt_frq=200, BATCH_SIZE=32)"
   ]
  },
  {
   "cell_type": "code",
   "execution_count": null,
   "metadata": {
    "collapsed": true
   },
   "outputs": [],
   "source": [
    "# Plot the final loss curves\n",
    "plot_loss(losses)\n",
    "\n",
    "# Plot some generated images from our GAN\n",
    "plot_gen(25,(5,5),(6,6))\n",
    "\n",
    "# Plot real MNIST images for comparison\n",
    "plot_real(25,(5,5),(6,6))"
   ]
  },
  {
   "cell_type": "code",
   "execution_count": null,
   "metadata": {
    "collapsed": true
   },
   "outputs": [],
   "source": []
  },
  {
   "cell_type": "code",
   "execution_count": null,
   "metadata": {
    "collapsed": true
   },
   "outputs": [],
   "source": []
  },
  {
   "cell_type": "code",
   "execution_count": null,
   "metadata": {
    "collapsed": true
   },
   "outputs": [],
   "source": []
  }
 ],
 "metadata": {
  "kernelspec": {
   "display_name": "Python [conda env:drugdiscovery]",
   "language": "python",
   "name": "conda-env-drugdiscovery-py"
  },
  "language_info": {
   "codemirror_mode": {
    "name": "ipython",
    "version": 3
   },
   "file_extension": ".py",
   "mimetype": "text/x-python",
   "name": "python",
   "nbconvert_exporter": "python",
   "pygments_lexer": "ipython3",
   "version": "3.6.3"
  }
 },
 "nbformat": 4,
 "nbformat_minor": 2
}
